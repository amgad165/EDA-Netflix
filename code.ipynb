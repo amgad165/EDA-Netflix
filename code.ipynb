{
 "cells": [
  {
   "cell_type": "code",
   "execution_count": 47,
   "id": "e39a54f8",
   "metadata": {},
   "outputs": [],
   "source": [
    "import pandas as pd\n",
    "import seaborn as sns\n",
    "import matplotlib.pyplot as plt\n",
    "import numpy as np\n",
    "\n",
    "\n"
   ]
  },
  {
   "cell_type": "code",
   "execution_count": 48,
   "id": "bc2a9494",
   "metadata": {},
   "outputs": [
    {
     "data": {
      "text/html": [
       "<div>\n",
       "<style scoped>\n",
       "    .dataframe tbody tr th:only-of-type {\n",
       "        vertical-align: middle;\n",
       "    }\n",
       "\n",
       "    .dataframe tbody tr th {\n",
       "        vertical-align: top;\n",
       "    }\n",
       "\n",
       "    .dataframe thead th {\n",
       "        text-align: right;\n",
       "    }\n",
       "</style>\n",
       "<table border=\"1\" class=\"dataframe\">\n",
       "  <thead>\n",
       "    <tr style=\"text-align: right;\">\n",
       "      <th></th>\n",
       "      <th>show_id</th>\n",
       "      <th>type</th>\n",
       "      <th>title</th>\n",
       "      <th>director</th>\n",
       "      <th>cast</th>\n",
       "      <th>country</th>\n",
       "      <th>date_added</th>\n",
       "      <th>release_year</th>\n",
       "      <th>rating</th>\n",
       "      <th>duration</th>\n",
       "      <th>listed_in</th>\n",
       "      <th>description</th>\n",
       "    </tr>\n",
       "  </thead>\n",
       "  <tbody>\n",
       "    <tr>\n",
       "      <th>0</th>\n",
       "      <td>s1</td>\n",
       "      <td>Movie</td>\n",
       "      <td>Dick Johnson Is Dead</td>\n",
       "      <td>Kirsten Johnson</td>\n",
       "      <td>NaN</td>\n",
       "      <td>United States</td>\n",
       "      <td>September 25, 2021</td>\n",
       "      <td>2020</td>\n",
       "      <td>PG-13</td>\n",
       "      <td>90 min</td>\n",
       "      <td>Documentaries</td>\n",
       "      <td>As her father nears the end of his life, filmm...</td>\n",
       "    </tr>\n",
       "    <tr>\n",
       "      <th>1</th>\n",
       "      <td>s2</td>\n",
       "      <td>TV Show</td>\n",
       "      <td>Blood &amp; Water</td>\n",
       "      <td>NaN</td>\n",
       "      <td>Ama Qamata, Khosi Ngema, Gail Mabalane, Thaban...</td>\n",
       "      <td>South Africa</td>\n",
       "      <td>September 24, 2021</td>\n",
       "      <td>2021</td>\n",
       "      <td>TV-MA</td>\n",
       "      <td>2 Seasons</td>\n",
       "      <td>International TV Shows, TV Dramas, TV Mysteries</td>\n",
       "      <td>After crossing paths at a party, a Cape Town t...</td>\n",
       "    </tr>\n",
       "    <tr>\n",
       "      <th>2</th>\n",
       "      <td>s3</td>\n",
       "      <td>TV Show</td>\n",
       "      <td>Ganglands</td>\n",
       "      <td>Julien Leclercq</td>\n",
       "      <td>Sami Bouajila, Tracy Gotoas, Samuel Jouy, Nabi...</td>\n",
       "      <td>NaN</td>\n",
       "      <td>September 24, 2021</td>\n",
       "      <td>2021</td>\n",
       "      <td>TV-MA</td>\n",
       "      <td>1 Season</td>\n",
       "      <td>Crime TV Shows, International TV Shows, TV Act...</td>\n",
       "      <td>To protect his family from a powerful drug lor...</td>\n",
       "    </tr>\n",
       "    <tr>\n",
       "      <th>3</th>\n",
       "      <td>s4</td>\n",
       "      <td>TV Show</td>\n",
       "      <td>Jailbirds New Orleans</td>\n",
       "      <td>NaN</td>\n",
       "      <td>NaN</td>\n",
       "      <td>NaN</td>\n",
       "      <td>September 24, 2021</td>\n",
       "      <td>2021</td>\n",
       "      <td>TV-MA</td>\n",
       "      <td>1 Season</td>\n",
       "      <td>Docuseries, Reality TV</td>\n",
       "      <td>Feuds, flirtations and toilet talk go down amo...</td>\n",
       "    </tr>\n",
       "    <tr>\n",
       "      <th>4</th>\n",
       "      <td>s5</td>\n",
       "      <td>TV Show</td>\n",
       "      <td>Kota Factory</td>\n",
       "      <td>NaN</td>\n",
       "      <td>Mayur More, Jitendra Kumar, Ranjan Raj, Alam K...</td>\n",
       "      <td>India</td>\n",
       "      <td>September 24, 2021</td>\n",
       "      <td>2021</td>\n",
       "      <td>TV-MA</td>\n",
       "      <td>2 Seasons</td>\n",
       "      <td>International TV Shows, Romantic TV Shows, TV ...</td>\n",
       "      <td>In a city of coaching centers known to train I...</td>\n",
       "    </tr>\n",
       "  </tbody>\n",
       "</table>\n",
       "</div>"
      ],
      "text/plain": [
       "  show_id     type                  title         director  \\\n",
       "0      s1    Movie   Dick Johnson Is Dead  Kirsten Johnson   \n",
       "1      s2  TV Show          Blood & Water              NaN   \n",
       "2      s3  TV Show              Ganglands  Julien Leclercq   \n",
       "3      s4  TV Show  Jailbirds New Orleans              NaN   \n",
       "4      s5  TV Show           Kota Factory              NaN   \n",
       "\n",
       "                                                cast        country  \\\n",
       "0                                                NaN  United States   \n",
       "1  Ama Qamata, Khosi Ngema, Gail Mabalane, Thaban...   South Africa   \n",
       "2  Sami Bouajila, Tracy Gotoas, Samuel Jouy, Nabi...            NaN   \n",
       "3                                                NaN            NaN   \n",
       "4  Mayur More, Jitendra Kumar, Ranjan Raj, Alam K...          India   \n",
       "\n",
       "           date_added  release_year rating   duration  \\\n",
       "0  September 25, 2021          2020  PG-13     90 min   \n",
       "1  September 24, 2021          2021  TV-MA  2 Seasons   \n",
       "2  September 24, 2021          2021  TV-MA   1 Season   \n",
       "3  September 24, 2021          2021  TV-MA   1 Season   \n",
       "4  September 24, 2021          2021  TV-MA  2 Seasons   \n",
       "\n",
       "                                           listed_in  \\\n",
       "0                                      Documentaries   \n",
       "1    International TV Shows, TV Dramas, TV Mysteries   \n",
       "2  Crime TV Shows, International TV Shows, TV Act...   \n",
       "3                             Docuseries, Reality TV   \n",
       "4  International TV Shows, Romantic TV Shows, TV ...   \n",
       "\n",
       "                                         description  \n",
       "0  As her father nears the end of his life, filmm...  \n",
       "1  After crossing paths at a party, a Cape Town t...  \n",
       "2  To protect his family from a powerful drug lor...  \n",
       "3  Feuds, flirtations and toilet talk go down amo...  \n",
       "4  In a city of coaching centers known to train I...  "
      ]
     },
     "execution_count": 48,
     "metadata": {},
     "output_type": "execute_result"
    }
   ],
   "source": [
    "df=pd.read_csv(\"netflix_titles[1].csv\")\n",
    "df.head()"
   ]
  },
  {
   "cell_type": "code",
   "execution_count": 49,
   "id": "d5f0d21c",
   "metadata": {},
   "outputs": [],
   "source": [
    "df_cleaned=df.copy()"
   ]
  },
  {
   "cell_type": "code",
   "execution_count": 50,
   "id": "fdb7ab82",
   "metadata": {},
   "outputs": [
    {
     "data": {
      "text/plain": [
       "show_id            0\n",
       "type               0\n",
       "title              0\n",
       "director        2634\n",
       "cast             825\n",
       "country          831\n",
       "date_added        10\n",
       "release_year       0\n",
       "rating             4\n",
       "duration           3\n",
       "listed_in          0\n",
       "description        0\n",
       "dtype: int64"
      ]
     },
     "execution_count": 50,
     "metadata": {},
     "output_type": "execute_result"
    }
   ],
   "source": [
    "df.isnull().sum()\n"
   ]
  },
  {
   "cell_type": "code",
   "execution_count": 51,
   "id": "cb35fd59",
   "metadata": {},
   "outputs": [
    {
     "data": {
      "text/plain": [
       "director      2634\n",
       "cast           825\n",
       "country        831\n",
       "date_added      10\n",
       "rating           4\n",
       "duration         3\n",
       "dtype: int64"
      ]
     },
     "execution_count": 51,
     "metadata": {},
     "output_type": "execute_result"
    }
   ],
   "source": [
    "missing_columns=df.isnull().sum()\n",
    "missing_columns[missing_columns>0]"
   ]
  },
  {
   "cell_type": "markdown",
   "id": "a7911f11",
   "metadata": {},
   "source": [
    "## Data cleansing"
   ]
  },
  {
   "cell_type": "markdown",
   "id": "7eb9d194",
   "metadata": {},
   "source": [
    "### 1. director column"
   ]
  },
  {
   "cell_type": "code",
   "execution_count": 52,
   "id": "de1f66da",
   "metadata": {},
   "outputs": [],
   "source": [
    "def get_director(row):\n",
    "    if pd.isnull(row['director']):\n",
    "        year=row['release_year']\n",
    "        year_type=row['type']\n",
    "        data_year=df[df['director'].notnull()]\n",
    "        data_year=data_year[data_year['release_year'].isin([year+1,year-1,year])]\n",
    "        data_year1=data_year[(data_year['type']==year_type)]\n",
    "        \n",
    "        if pd.notnull(row['country']):\n",
    "            country=row['country']\n",
    "            split_country=country.split(',')\n",
    "            split_country=[x.strip() for x in split_country]\n",
    "            split_country.append(country.strip())\n",
    "            split_country=list(set(split_country))\n",
    "            data_year=data_year1[data_year1['country'].isin(split_country)] \n",
    "            if len(data_year)==0:\n",
    "                data_year=data_year1\n",
    "                \n",
    "        data_year=pd.DataFrame(data_year['director'].value_counts())\n",
    "        data_year.rename(columns = {'director':'count'}, inplace = True)\n",
    "        data_year.reset_index(inplace=True)\n",
    "        data_year=(data_year.sort_values(by='count',ascending=False)).head()\n",
    "        try:\n",
    "            random_sample=np.random.choice(data_year['index'],1)\n",
    "            return random_sample[0]\n",
    "        except:\n",
    "            random_sample=np.random.choice(df['director'].dropna(),1)\n",
    "            return random_sample[0]\n",
    "    else:\n",
    "        return row['director']\n",
    "df_cleaned['director']=df_cleaned.apply(get_director,axis=1)"
   ]
  },
  {
   "cell_type": "code",
   "execution_count": 53,
   "id": "8cfc3c50",
   "metadata": {},
   "outputs": [
    {
     "data": {
      "text/plain": [
       "0"
      ]
     },
     "execution_count": 53,
     "metadata": {},
     "output_type": "execute_result"
    }
   ],
   "source": [
    "df_cleaned.isnull().sum()['director']"
   ]
  },
  {
   "cell_type": "markdown",
   "id": "9065e5e9",
   "metadata": {},
   "source": [
    "### 2. cast"
   ]
  },
  {
   "cell_type": "code",
   "execution_count": 54,
   "id": "b53f1d82",
   "metadata": {},
   "outputs": [],
   "source": [
    "def get_cast(row):\n",
    "    if pd.isnull(row['cast']):\n",
    "        year=row['release_year']\n",
    "        year_type=row['type']\n",
    "        data_year=df[df['cast'].notnull()]\n",
    "        data_year=data_year[data_year['release_year'].isin([year+1,year-1,year])]\n",
    "        data_year1=data_year[(data_year['type']==year_type)]\n",
    "        \n",
    "        if pd.notnull(row['country']):\n",
    "            country=row['country']\n",
    "            split_country=country.split(',')\n",
    "            split_country=[x.strip() for x in split_country]\n",
    "            split_country.append(country.strip())\n",
    "            split_country=list(set(split_country))\n",
    "            data_year=data_year1[data_year1['country'].isin(split_country)]\n",
    "            if len(data_year)==0:\n",
    "                data_year=data_year1\n",
    "                \n",
    "        data_year=pd.DataFrame(data_year['cast'].value_counts())\n",
    "        data_year.rename(columns = {'cast':'count'}, inplace = True)\n",
    "        data_year.reset_index(inplace=True)\n",
    "        data_year=(data_year.sort_values(by='count',ascending=False)).head()             \n",
    "        try:\n",
    "            random_sample=np.random.choice(data_year['index'],1) \n",
    "            return random_sample[0]\n",
    "        except:\n",
    "            random_sample=np.random.choice(df['cast'].dropna(),1)\n",
    "            return random_sample[0]\n",
    "    else:\n",
    "        return row['cast']\n",
    "df_cleaned['cast']=df_cleaned.apply(get_cast,axis=1)"
   ]
  },
  {
   "cell_type": "markdown",
   "id": "a1ea7d4c",
   "metadata": {},
   "source": [
    "### 3. date_added"
   ]
  },
  {
   "cell_type": "code",
   "execution_count": 55,
   "id": "c43d702c",
   "metadata": {},
   "outputs": [],
   "source": [
    "df_cleaned['date_added']= df_cleaned['date_added'].fillna(method=\"ffill\")"
   ]
  },
  {
   "cell_type": "code",
   "execution_count": 56,
   "id": "9dcf6e14",
   "metadata": {},
   "outputs": [
    {
     "data": {
      "text/plain": [
       "0"
      ]
     },
     "execution_count": 56,
     "metadata": {},
     "output_type": "execute_result"
    }
   ],
   "source": [
    "df_cleaned.isnull().sum()['date_added']"
   ]
  },
  {
   "cell_type": "markdown",
   "id": "a966a5f6",
   "metadata": {},
   "source": [
    "### 4. country"
   ]
  },
  {
   "cell_type": "code",
   "execution_count": 57,
   "id": "b55a707f",
   "metadata": {},
   "outputs": [],
   "source": [
    "fill_list = df_cleaned['country'].dropna().tolist()\n",
    "df_cleaned['country'] = df_cleaned['country'].fillna(pd.Series(np.random.choice(fill_list , size = len(df_cleaned.index))))"
   ]
  },
  {
   "cell_type": "code",
   "execution_count": 58,
   "id": "17b126c2",
   "metadata": {},
   "outputs": [
    {
     "data": {
      "text/plain": [
       "0"
      ]
     },
     "execution_count": 58,
     "metadata": {},
     "output_type": "execute_result"
    }
   ],
   "source": [
    "df_cleaned.isnull().sum()['country']"
   ]
  },
  {
   "cell_type": "markdown",
   "id": "106702c5",
   "metadata": {},
   "source": [
    "### 5. rating"
   ]
  },
  {
   "cell_type": "code",
   "execution_count": 59,
   "id": "4b6d9df6",
   "metadata": {},
   "outputs": [],
   "source": [
    "fill_list = df_cleaned['rating'].dropna().tolist()\n",
    "df_cleaned['rating'] = df_cleaned['rating'].fillna(pd.Series(np.random.choice(fill_list , size = len(df_cleaned.index))))"
   ]
  },
  {
   "cell_type": "code",
   "execution_count": 60,
   "id": "75356a11",
   "metadata": {},
   "outputs": [
    {
     "data": {
      "text/plain": [
       "0"
      ]
     },
     "execution_count": 60,
     "metadata": {},
     "output_type": "execute_result"
    }
   ],
   "source": [
    "df_cleaned.isnull().sum()['rating']"
   ]
  },
  {
   "cell_type": "markdown",
   "id": "257cf321",
   "metadata": {},
   "source": [
    "### 6. duration"
   ]
  },
  {
   "cell_type": "code",
   "execution_count": 61,
   "id": "678dfef5",
   "metadata": {},
   "outputs": [],
   "source": [
    "fill_list = df_cleaned['duration'].dropna().tolist()\n",
    "df_cleaned['duration'] = df_cleaned['duration'].fillna(pd.Series(np.random.choice(fill_list , size = len(df_cleaned.index))))"
   ]
  },
  {
   "cell_type": "code",
   "execution_count": 62,
   "id": "1ae48985",
   "metadata": {},
   "outputs": [
    {
     "data": {
      "text/plain": [
       "0"
      ]
     },
     "execution_count": 62,
     "metadata": {},
     "output_type": "execute_result"
    }
   ],
   "source": [
    "df_cleaned.isnull().sum()['duration']"
   ]
  },
  {
   "cell_type": "code",
   "execution_count": 63,
   "id": "fa33af2b",
   "metadata": {},
   "outputs": [
    {
     "data": {
      "text/plain": [
       "show_id         0\n",
       "type            0\n",
       "title           0\n",
       "director        0\n",
       "cast            0\n",
       "country         0\n",
       "date_added      0\n",
       "release_year    0\n",
       "rating          0\n",
       "duration        0\n",
       "listed_in       0\n",
       "description     0\n",
       "dtype: int64"
      ]
     },
     "execution_count": 63,
     "metadata": {},
     "output_type": "execute_result"
    }
   ],
   "source": [
    "df_cleaned.isnull().sum()"
   ]
  },
  {
   "cell_type": "code",
   "execution_count": 64,
   "id": "8c61649e",
   "metadata": {},
   "outputs": [],
   "source": [
    "df = df_cleaned"
   ]
  },
  {
   "cell_type": "code",
   "execution_count": 65,
   "id": "df47b0c4",
   "metadata": {},
   "outputs": [],
   "source": [
    "df[\"date_added\"] = pd.to_datetime(df[\"date_added\"])"
   ]
  },
  {
   "cell_type": "code",
   "execution_count": 66,
   "id": "a128a7cb",
   "metadata": {},
   "outputs": [],
   "source": [
    "df[\"Year_added\"] = df[\"date_added\"].dt.year\n",
    "df[\"Year_added\"] = df[\"Year_added\"].fillna(0)\n",
    "df[\"Year_added\"] = df[\"Year_added\"].astype(int)\n",
    "df[\"Month_added\"] = df[\"date_added\"].dt.month_name()"
   ]
  },
  {
   "cell_type": "code",
   "execution_count": 67,
   "id": "7085f7d0",
   "metadata": {},
   "outputs": [
    {
     "data": {
      "text/plain": [
       "<AxesSubplot: ylabel='type'>"
      ]
     },
     "execution_count": 67,
     "metadata": {},
     "output_type": "execute_result"
    },
    {
     "data": {
      "image/png": "[encoded data removed]",
      "text/plain": [
       "<Figure size 1400x700 with 1 Axes>"
      ]
     },
     "metadata": {},
     "output_type": "display_data"
    }
   ],
   "source": [
    "plt.figure(figsize=(14,7))\n",
    "df[\"type\"].value_counts().plot(kind=\"pie\",shadow=True,autopct = '%1.1f%%')"
   ]
  },
  {
   "cell_type": "markdown",
   "id": "fa0ab7b4",
   "metadata": {},
   "source": [
    "As we can see netflix has 69 % moveies and 30 % TV shows"
   ]
  },
  {
   "cell_type": "code",
   "execution_count": 68,
   "id": "686a0f81",
   "metadata": {},
   "outputs": [
    {
     "name": "stderr",
     "output_type": "stream",
     "text": [
      "C:\\Users\\amgad\\AppData\\Local\\Temp\\ipykernel_10544\\2167063992.py:3: FutureWarning: The behavior of `series[i:j]` with an integer-dtype index is deprecated. In a future version, this will be treated as *label-based* indexing, consistent with e.g. `series[i]` lookups. To retain the old behavior, use `series.iloc[i:j]`. To get the future behavior, use `series.loc[i:j]`.\n",
      "  df[df[\"type\"]==\"Movie\"][\"release_year\"].value_counts()[:20].plot(kind=\"bar\",color=\"darkorange\")\n"
     ]
    },
    {
     "data": {
      "text/plain": [
       "Text(0.5, 1.0, 'Frequency of Movies which are released in different years and are there in netflix')"
      ]
     },
     "execution_count": 68,
     "metadata": {},
     "output_type": "execute_result"
    },
    {
     "data": {
      "image/png": "[encoded data removed]",
      "text/plain": [
       "<Figure size 1200x600 with 1 Axes>"
      ]
     },
     "metadata": {},
     "output_type": "display_data"
    }
   ],
   "source": [
    "plt.style.use(\"ggplot\")\n",
    "plt.figure(figsize=(12,6))\n",
    "df[df[\"type\"]==\"Movie\"][\"release_year\"].value_counts()[:20].plot(kind=\"bar\",color=\"darkorange\")\n",
    "plt.title(\"Frequency of Movies which are released in different years and are there in netflix\",size=16)"
   ]
  },
  {
   "cell_type": "code",
   "execution_count": 69,
   "id": "84469bf4",
   "metadata": {},
   "outputs": [
    {
     "name": "stderr",
     "output_type": "stream",
     "text": [
      "C:\\Users\\amgad\\AppData\\Local\\Temp\\ipykernel_10544\\2871786195.py:3: FutureWarning: The behavior of `series[i:j]` with an integer-dtype index is deprecated. In a future version, this will be treated as *label-based* indexing, consistent with e.g. `series[i]` lookups. To retain the old behavior, use `series.iloc[i:j]`. To get the future behavior, use `series.loc[i:j]`.\n",
      "  df[df[\"type\"]==\"TV Show\"][\"release_year\"].value_counts()[:20].plot(kind=\"bar\",color=\"mediumblue\")\n"
     ]
    },
    {
     "data": {
      "text/plain": [
       "Text(0.5, 1.0, 'Frequency of TV shows which are released in different years and are there in netflix')"
      ]
     },
     "execution_count": 69,
     "metadata": {},
     "output_type": "execute_result"
    },
    {
     "data": {
      "image/png": "[encoded data removed]",
      "text/plain": [
       "<Figure size 1200x600 with 1 Axes>"
      ]
     },
     "metadata": {},
     "output_type": "display_data"
    }
   ],
   "source": [
    "plt.style.use(\"ggplot\")\n",
    "plt.figure(figsize=(12,6))\n",
    "df[df[\"type\"]==\"TV Show\"][\"release_year\"].value_counts()[:20].plot(kind=\"bar\",color=\"mediumblue\")\n",
    "plt.title(\"Frequency of TV shows which are released in different years and are there in netflix\",size=16)"
   ]
  },
  {
   "cell_type": "code",
   "execution_count": 70,
   "id": "20fc7de4",
   "metadata": {},
   "outputs": [],
   "source": [
    "netflix_shows = (df.loc[df[\"type\"]==\"TV Show\"]).reset_index(drop=True)\n",
    "netflix_movies = (df.loc[df[\"type\"]==\"Movie\"]).reset_index(drop=True)"
   ]
  },
  {
   "cell_type": "code",
   "execution_count": 71,
   "id": "3a27b121",
   "metadata": {},
   "outputs": [
    {
     "data": {
      "text/html": [
       "<div>\n",
       "<style scoped>\n",
       "    .dataframe tbody tr th:only-of-type {\n",
       "        vertical-align: middle;\n",
       "    }\n",
       "\n",
       "    .dataframe tbody tr th {\n",
       "        vertical-align: top;\n",
       "    }\n",
       "\n",
       "    .dataframe thead th {\n",
       "        text-align: right;\n",
       "    }\n",
       "</style>\n",
       "<table border=\"1\" class=\"dataframe\">\n",
       "  <thead>\n",
       "    <tr style=\"text-align: right;\">\n",
       "      <th></th>\n",
       "      <th>show_id</th>\n",
       "      <th>type</th>\n",
       "      <th>title</th>\n",
       "      <th>director</th>\n",
       "      <th>cast</th>\n",
       "      <th>country</th>\n",
       "      <th>date_added</th>\n",
       "      <th>release_year</th>\n",
       "      <th>rating</th>\n",
       "      <th>duration</th>\n",
       "      <th>listed_in</th>\n",
       "      <th>description</th>\n",
       "      <th>Year_added</th>\n",
       "      <th>Month_added</th>\n",
       "    </tr>\n",
       "  </thead>\n",
       "  <tbody>\n",
       "    <tr>\n",
       "      <th>0</th>\n",
       "      <td>s2</td>\n",
       "      <td>TV Show</td>\n",
       "      <td>Blood &amp; Water</td>\n",
       "      <td>Bunmi Ajakaiye</td>\n",
       "      <td>Ama Qamata, Khosi Ngema, Gail Mabalane, Thaban...</td>\n",
       "      <td>South Africa</td>\n",
       "      <td>2021-09-24</td>\n",
       "      <td>2021</td>\n",
       "      <td>TV-MA</td>\n",
       "      <td>2 Seasons</td>\n",
       "      <td>International TV Shows, TV Dramas, TV Mysteries</td>\n",
       "      <td>After crossing paths at a party, a Cape Town t...</td>\n",
       "      <td>2021</td>\n",
       "      <td>September</td>\n",
       "    </tr>\n",
       "    <tr>\n",
       "      <th>1</th>\n",
       "      <td>s3</td>\n",
       "      <td>TV Show</td>\n",
       "      <td>Ganglands</td>\n",
       "      <td>Julien Leclercq</td>\n",
       "      <td>Sami Bouajila, Tracy Gotoas, Samuel Jouy, Nabi...</td>\n",
       "      <td>United States</td>\n",
       "      <td>2021-09-24</td>\n",
       "      <td>2021</td>\n",
       "      <td>TV-MA</td>\n",
       "      <td>1 Season</td>\n",
       "      <td>Crime TV Shows, International TV Shows, TV Act...</td>\n",
       "      <td>To protect his family from a powerful drug lor...</td>\n",
       "      <td>2021</td>\n",
       "      <td>September</td>\n",
       "    </tr>\n",
       "    <tr>\n",
       "      <th>2</th>\n",
       "      <td>s4</td>\n",
       "      <td>TV Show</td>\n",
       "      <td>Jailbirds New Orleans</td>\n",
       "      <td>Julien Leclercq</td>\n",
       "      <td>Aishwarya Rajesh, Vidhu, Surya Ganapathy, Madh...</td>\n",
       "      <td>United States</td>\n",
       "      <td>2021-09-24</td>\n",
       "      <td>2021</td>\n",
       "      <td>TV-MA</td>\n",
       "      <td>1 Season</td>\n",
       "      <td>Docuseries, Reality TV</td>\n",
       "      <td>Feuds, flirtations and toilet talk go down amo...</td>\n",
       "      <td>2021</td>\n",
       "      <td>September</td>\n",
       "    </tr>\n",
       "    <tr>\n",
       "      <th>3</th>\n",
       "      <td>s5</td>\n",
       "      <td>TV Show</td>\n",
       "      <td>Kota Factory</td>\n",
       "      <td>Tharun Bhascker Dhaassyam, B. V. Nandini Reddy...</td>\n",
       "      <td>Mayur More, Jitendra Kumar, Ranjan Raj, Alam K...</td>\n",
       "      <td>India</td>\n",
       "      <td>2021-09-24</td>\n",
       "      <td>2021</td>\n",
       "      <td>TV-MA</td>\n",
       "      <td>2 Seasons</td>\n",
       "      <td>International TV Shows, Romantic TV Shows, TV ...</td>\n",
       "      <td>In a city of coaching centers known to train I...</td>\n",
       "      <td>2021</td>\n",
       "      <td>September</td>\n",
       "    </tr>\n",
       "    <tr>\n",
       "      <th>4</th>\n",
       "      <td>s6</td>\n",
       "      <td>TV Show</td>\n",
       "      <td>Midnight Mass</td>\n",
       "      <td>Mike Flanagan</td>\n",
       "      <td>Kate Siegel, Zach Gilford, Hamish Linklater, H...</td>\n",
       "      <td>India</td>\n",
       "      <td>2021-09-24</td>\n",
       "      <td>2021</td>\n",
       "      <td>TV-MA</td>\n",
       "      <td>1 Season</td>\n",
       "      <td>TV Dramas, TV Horror, TV Mysteries</td>\n",
       "      <td>The arrival of a charismatic young priest brin...</td>\n",
       "      <td>2021</td>\n",
       "      <td>September</td>\n",
       "    </tr>\n",
       "  </tbody>\n",
       "</table>\n",
       "</div>"
      ],
      "text/plain": [
       "  show_id     type                  title  \\\n",
       "0      s2  TV Show          Blood & Water   \n",
       "1      s3  TV Show              Ganglands   \n",
       "2      s4  TV Show  Jailbirds New Orleans   \n",
       "3      s5  TV Show           Kota Factory   \n",
       "4      s6  TV Show          Midnight Mass   \n",
       "\n",
       "                                            director  \\\n",
       "0                                     Bunmi Ajakaiye   \n",
       "1                                    Julien Leclercq   \n",
       "2                                    Julien Leclercq   \n",
       "3  Tharun Bhascker Dhaassyam, B. V. Nandini Reddy...   \n",
       "4                                      Mike Flanagan   \n",
       "\n",
       "                                                cast        country  \\\n",
       "0  Ama Qamata, Khosi Ngema, Gail Mabalane, Thaban...   South Africa   \n",
       "1  Sami Bouajila, Tracy Gotoas, Samuel Jouy, Nabi...  United States   \n",
       "2  Aishwarya Rajesh, Vidhu, Surya Ganapathy, Madh...  United States   \n",
       "3  Mayur More, Jitendra Kumar, Ranjan Raj, Alam K...          India   \n",
       "4  Kate Siegel, Zach Gilford, Hamish Linklater, H...          India   \n",
       "\n",
       "  date_added  release_year rating   duration  \\\n",
       "0 2021-09-24          2021  TV-MA  2 Seasons   \n",
       "1 2021-09-24          2021  TV-MA   1 Season   \n",
       "2 2021-09-24          2021  TV-MA   1 Season   \n",
       "3 2021-09-24          2021  TV-MA  2 Seasons   \n",
       "4 2021-09-24          2021  TV-MA   1 Season   \n",
       "\n",
       "                                           listed_in  \\\n",
       "0    International TV Shows, TV Dramas, TV Mysteries   \n",
       "1  Crime TV Shows, International TV Shows, TV Act...   \n",
       "2                             Docuseries, Reality TV   \n",
       "3  International TV Shows, Romantic TV Shows, TV ...   \n",
       "4                 TV Dramas, TV Horror, TV Mysteries   \n",
       "\n",
       "                                         description  Year_added Month_added  \n",
       "0  After crossing paths at a party, a Cape Town t...        2021   September  \n",
       "1  To protect his family from a powerful drug lor...        2021   September  \n",
       "2  Feuds, flirtations and toilet talk go down amo...        2021   September  \n",
       "3  In a city of coaching centers known to train I...        2021   September  \n",
       "4  The arrival of a charismatic young priest brin...        2021   September  "
      ]
     },
     "execution_count": 71,
     "metadata": {},
     "output_type": "execute_result"
    }
   ],
   "source": [
    "netflix_shows.head()\n"
   ]
  },
  {
   "cell_type": "code",
   "execution_count": 72,
   "id": "d1dd464a",
   "metadata": {},
   "outputs": [
    {
     "data": {
      "text/html": [
       "<div>\n",
       "<style scoped>\n",
       "    .dataframe tbody tr th:only-of-type {\n",
       "        vertical-align: middle;\n",
       "    }\n",
       "\n",
       "    .dataframe tbody tr th {\n",
       "        vertical-align: top;\n",
       "    }\n",
       "\n",
       "    .dataframe thead th {\n",
       "        text-align: right;\n",
       "    }\n",
       "</style>\n",
       "<table border=\"1\" class=\"dataframe\">\n",
       "  <thead>\n",
       "    <tr style=\"text-align: right;\">\n",
       "      <th></th>\n",
       "      <th>show_id</th>\n",
       "      <th>type</th>\n",
       "      <th>title</th>\n",
       "      <th>director</th>\n",
       "      <th>cast</th>\n",
       "      <th>country</th>\n",
       "      <th>date_added</th>\n",
       "      <th>release_year</th>\n",
       "      <th>rating</th>\n",
       "      <th>duration</th>\n",
       "      <th>listed_in</th>\n",
       "      <th>description</th>\n",
       "      <th>Year_added</th>\n",
       "      <th>Month_added</th>\n",
       "    </tr>\n",
       "  </thead>\n",
       "  <tbody>\n",
       "    <tr>\n",
       "      <th>0</th>\n",
       "      <td>s1</td>\n",
       "      <td>Movie</td>\n",
       "      <td>Dick Johnson Is Dead</td>\n",
       "      <td>Kirsten Johnson</td>\n",
       "      <td>Channing Tatum, Jason Mantzoukas, Olivia Munn,...</td>\n",
       "      <td>United States</td>\n",
       "      <td>2021-09-25</td>\n",
       "      <td>2020</td>\n",
       "      <td>PG-13</td>\n",
       "      <td>90 min</td>\n",
       "      <td>Documentaries</td>\n",
       "      <td>As her father nears the end of his life, filmm...</td>\n",
       "      <td>2021</td>\n",
       "      <td>September</td>\n",
       "    </tr>\n",
       "    <tr>\n",
       "      <th>1</th>\n",
       "      <td>s7</td>\n",
       "      <td>Movie</td>\n",
       "      <td>My Little Pony: A New Generation</td>\n",
       "      <td>Robert Cullen, José Luis Ucha</td>\n",
       "      <td>Vanessa Hudgens, Kimiko Glenn, James Marsden, ...</td>\n",
       "      <td>United Kingdom</td>\n",
       "      <td>2021-09-24</td>\n",
       "      <td>2021</td>\n",
       "      <td>PG</td>\n",
       "      <td>91 min</td>\n",
       "      <td>Children &amp; Family Movies</td>\n",
       "      <td>Equestria's divided. But a bright-eyed hero be...</td>\n",
       "      <td>2021</td>\n",
       "      <td>September</td>\n",
       "    </tr>\n",
       "    <tr>\n",
       "      <th>2</th>\n",
       "      <td>s8</td>\n",
       "      <td>Movie</td>\n",
       "      <td>Sankofa</td>\n",
       "      <td>Haile Gerima</td>\n",
       "      <td>Kofi Ghanaba, Oyafunmike Ogunlano, Alexandra D...</td>\n",
       "      <td>United States, Ghana, Burkina Faso, United Kin...</td>\n",
       "      <td>2021-09-24</td>\n",
       "      <td>1993</td>\n",
       "      <td>TV-MA</td>\n",
       "      <td>125 min</td>\n",
       "      <td>Dramas, Independent Movies, International Movies</td>\n",
       "      <td>On a photo shoot in Ghana, an American model s...</td>\n",
       "      <td>2021</td>\n",
       "      <td>September</td>\n",
       "    </tr>\n",
       "    <tr>\n",
       "      <th>3</th>\n",
       "      <td>s10</td>\n",
       "      <td>Movie</td>\n",
       "      <td>The Starling</td>\n",
       "      <td>Theodore Melfi</td>\n",
       "      <td>Melissa McCarthy, Chris O'Dowd, Kevin Kline, T...</td>\n",
       "      <td>United States</td>\n",
       "      <td>2021-09-24</td>\n",
       "      <td>2021</td>\n",
       "      <td>PG-13</td>\n",
       "      <td>104 min</td>\n",
       "      <td>Comedies, Dramas</td>\n",
       "      <td>A woman adjusting to life after a loss contend...</td>\n",
       "      <td>2021</td>\n",
       "      <td>September</td>\n",
       "    </tr>\n",
       "    <tr>\n",
       "      <th>4</th>\n",
       "      <td>s13</td>\n",
       "      <td>Movie</td>\n",
       "      <td>Je Suis Karl</td>\n",
       "      <td>Christian Schwochow</td>\n",
       "      <td>Luna Wedler, Jannis Niewöhner, Milan Peschel, ...</td>\n",
       "      <td>Germany, Czech Republic</td>\n",
       "      <td>2021-09-23</td>\n",
       "      <td>2021</td>\n",
       "      <td>TV-MA</td>\n",
       "      <td>127 min</td>\n",
       "      <td>Dramas, International Movies</td>\n",
       "      <td>After most of her family is murdered in a terr...</td>\n",
       "      <td>2021</td>\n",
       "      <td>September</td>\n",
       "    </tr>\n",
       "  </tbody>\n",
       "</table>\n",
       "</div>"
      ],
      "text/plain": [
       "  show_id   type                             title  \\\n",
       "0      s1  Movie              Dick Johnson Is Dead   \n",
       "1      s7  Movie  My Little Pony: A New Generation   \n",
       "2      s8  Movie                           Sankofa   \n",
       "3     s10  Movie                      The Starling   \n",
       "4     s13  Movie                      Je Suis Karl   \n",
       "\n",
       "                        director  \\\n",
       "0                Kirsten Johnson   \n",
       "1  Robert Cullen, José Luis Ucha   \n",
       "2                   Haile Gerima   \n",
       "3                 Theodore Melfi   \n",
       "4            Christian Schwochow   \n",
       "\n",
       "                                                cast  \\\n",
       "0  Channing Tatum, Jason Mantzoukas, Olivia Munn,...   \n",
       "1  Vanessa Hudgens, Kimiko Glenn, James Marsden, ...   \n",
       "2  Kofi Ghanaba, Oyafunmike Ogunlano, Alexandra D...   \n",
       "3  Melissa McCarthy, Chris O'Dowd, Kevin Kline, T...   \n",
       "4  Luna Wedler, Jannis Niewöhner, Milan Peschel, ...   \n",
       "\n",
       "                                             country date_added  release_year  \\\n",
       "0                                      United States 2021-09-25          2020   \n",
       "1                                     United Kingdom 2021-09-24          2021   \n",
       "2  United States, Ghana, Burkina Faso, United Kin... 2021-09-24          1993   \n",
       "3                                      United States 2021-09-24          2021   \n",
       "4                            Germany, Czech Republic 2021-09-23          2021   \n",
       "\n",
       "  rating duration                                         listed_in  \\\n",
       "0  PG-13   90 min                                     Documentaries   \n",
       "1     PG   91 min                          Children & Family Movies   \n",
       "2  TV-MA  125 min  Dramas, Independent Movies, International Movies   \n",
       "3  PG-13  104 min                                  Comedies, Dramas   \n",
       "4  TV-MA  127 min                      Dramas, International Movies   \n",
       "\n",
       "                                         description  Year_added Month_added  \n",
       "0  As her father nears the end of his life, filmm...        2021   September  \n",
       "1  Equestria's divided. But a bright-eyed hero be...        2021   September  \n",
       "2  On a photo shoot in Ghana, an American model s...        2021   September  \n",
       "3  A woman adjusting to life after a loss contend...        2021   September  \n",
       "4  After most of her family is murdered in a terr...        2021   September  "
      ]
     },
     "execution_count": 72,
     "metadata": {},
     "output_type": "execute_result"
    }
   ],
   "source": [
    "netflix_movies.head()\n"
   ]
  },
  {
   "cell_type": "markdown",
   "id": "42f00acf",
   "metadata": {},
   "source": [
    "## Movies Vs TV-Shows over the period of time¶\n"
   ]
  },
  {
   "cell_type": "code",
   "execution_count": 73,
   "id": "f1f900d2",
   "metadata": {},
   "outputs": [
    {
     "data": {
      "image/png": "[encoded data removed]",
      "text/plain": [
       "<Figure size 640x480 with 1 Axes>"
      ]
     },
     "metadata": {},
     "output_type": "display_data"
    }
   ],
   "source": [
    "sns.set(style=\"darkgrid\")\n",
    "sns.countplot(data=df, x=df[\"type\"], palette=\"bwr\")\n",
    "plt.title(\"Movies Vs TV-Shows count comparision\")\n",
    "plt.show()"
   ]
  },
  {
   "cell_type": "code",
   "execution_count": 74,
   "id": "c9902a60",
   "metadata": {},
   "outputs": [],
   "source": [
    "netflix_movies_per_year = netflix_movies.groupby(by=\"Year_added\")[\"title\"].nunique()\n",
    "netflix_shows_per_year = netflix_shows.groupby(by=\"Year_added\")[\"title\"].nunique()"
   ]
  },
  {
   "cell_type": "code",
   "execution_count": 75,
   "id": "63967c37",
   "metadata": {},
   "outputs": [
    {
     "data": {
      "image/png": "[encoded data removed]",
      "text/plain": [
       "<Figure size 1000x800 with 1 Axes>"
      ]
     },
     "metadata": {},
     "output_type": "display_data"
    }
   ],
   "source": [
    "plt.figure(figsize=(10,8))\n",
    "sns.set(style = \"white\")\n",
    "sns.lineplot(data=netflix_movies_per_year, x = netflix_movies_per_year.index, y = netflix_movies_per_year, label=\"Movies\")\n",
    "sns.lineplot(data=netflix_shows_per_year, x = netflix_shows_per_year.index, y=netflix_shows_per_year, label=\"TV-Shows\")\n",
    "plt.xlim(2005,2022)\n",
    "plt.grid()\n",
    "plt.legend()\n",
    "plt.title(\"Titles added over the years\")\n",
    "plt.show()"
   ]
  },
  {
   "cell_type": "markdown",
   "id": "80e0758a",
   "metadata": {},
   "source": [
    "### Based on the above two graphs, it is evident that more number of movies are added into the content compared to TV-Shows.\n",
    "So to increase the revenue, more number of TV-Shows can be added to the content.\n"
   ]
  },
  {
   "cell_type": "markdown",
   "id": "a18356df",
   "metadata": {},
   "source": [
    "#### save cleaned dataset"
   ]
  },
  {
   "cell_type": "code",
   "execution_count": 79,
   "id": "c4a6adf1",
   "metadata": {},
   "outputs": [],
   "source": [
    "\n",
    "# df.to_csv('cleaned_dataset.csv', index = False, encoding='utf-8') # False: not include index\n"
   ]
  },
  {
   "cell_type": "code",
   "execution_count": null,
   "id": "09bacde7",
   "metadata": {},
   "outputs": [],
   "source": []
  }
 ],
 "metadata": {
  "kernelspec": {
   "display_name": "Python 3 (ipykernel)",
   "language": "python",
   "name": "python3"
  },
  "language_info": {
   "codemirror_mode": {
    "name": "ipython",
    "version": 3
   },
   "file_extension": ".py",
   "mimetype": "text/x-python",
   "name": "python",
   "nbconvert_exporter": "python",
   "pygments_lexer": "ipython3",
   "version": "3.9.7"
  }
 },
 "nbformat": 4,
 "nbformat_minor": 5
}
